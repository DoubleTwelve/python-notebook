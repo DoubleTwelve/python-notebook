{
 "cells": [
  {
   "cell_type": "code",
   "execution_count": 82,
   "metadata": {},
   "outputs": [],
   "source": [
    "var_type_sparse = 1\n",
    "var_type_dense = 0\n",
    "\n",
    "class Variable(object):\n",
    "    def __init__(self, key, var_size, var_type, delta_size=0):\n",
    "        self.__var_size = var_size\n",
    "        self.__var_type = var_type\n",
    "        self.__var_key = key\n",
    "        if delta_size == 0:\n",
    "            self.__delta_size = var_size\n",
    "        else:\n",
    "            self.__delta_size = delta_size\n",
    "        \n",
    "    def var_size(self):\n",
    "        return self.__var_size\n",
    "    \n",
    "    def var_type(self):\n",
    "        return self.__var_type\n",
    "    \n",
    "    def var_key(self):\n",
    "        return self.__var_key\n",
    "    \n",
    "    def var_delta(self):\n",
    "        return self.__delta_size\n",
    "    \n",
    "    def __repr__(self):\n",
    "        return 'var_key = {} var_size = {} delta_size = {} var_type = {}'.format(self.var_key(), self.var_size(), \n",
    "                                                                                 self.var_delta(),\n",
    "                                                                                 self.var_type())"
   ]
  },
  {
   "cell_type": "code",
   "execution_count": 59,
   "metadata": {},
   "outputs": [],
   "source": [
    "import numpy as np\n",
    "\n",
    "class Jacobian(object):\n",
    "    def __init__(self, w, h):\n",
    "        self.__mat = np.zeros((w,h))\n",
    "    \n",
    "    def update(self, m):\n",
    "        w, h = self.__mat.shape()\n",
    "        assert(m.shape()[0] == w)\n",
    "        assert(m.shape()[1] == h)\n",
    "        self.__mat = m    \n",
    "        \n",
    "    def get(self):\n",
    "        return self.__mat"
   ]
  },
  {
   "cell_type": "code",
   "execution_count": 97,
   "metadata": {
    "scrolled": true
   },
   "outputs": [],
   "source": [
    "class Factor(object):\n",
    "    def __init__(self, keys, return_type):\n",
    "        self.__set = True\n",
    "        self.__keys = keys\n",
    "        \n",
    "    def keys(self):\n",
    "        return self.__keys\n",
    "    \n",
    "    def error(variables):\n",
    "        return 0\n",
    "            \n",
    "    def evaluate(variables, jacobians=None):\n",
    "        assert(len(variables) == len(self.__keys))\n",
    "        \n",
    "        if not jacobians is None:\n",
    "            assert(len(variables) == len(jacobians))\n",
    "            for jac in jacobians:\n",
    "                m = jac.get()\n",
    "                jac.update(m)\n",
    "        \n",
    "        return error(variables)      "
   ]
  },
  {
   "cell_type": "code",
   "execution_count": null,
   "metadata": {},
   "outputs": [],
   "source": []
  },
  {
   "cell_type": "code",
   "execution_count": 93,
   "metadata": {},
   "outputs": [],
   "source": [
    "class Optimizer(object):\n",
    "    def __init__(self):\n",
    "        self.__variables_dense = list()\n",
    "        self.__variables_sparse = list()\n",
    "        self.__factors = list()\n",
    "        \n",
    "    def compose(self):\n",
    "        M = 0\n",
    "        for var in self.__variables_dense:\n",
    "            M += var.var_delta()\n",
    "        for var in self.__variables_sparse:\n",
    "            M += var.var_delta()   \n",
    "        H_full = np.zeros((M,M))\n",
    "        return H_full\n",
    "        \n",
    "        \n",
    "    def add_variable(self, variable):\n",
    "        isinstance(variable, Variable)\n",
    "        if variable.var_type == var_type_sparse:\n",
    "            self.__variables_sparse.append(variable)\n",
    "        else:\n",
    "            self.__variables_dense.append(variable)\n",
    "        \n",
    "    def add_factor(self, factor):\n",
    "        isinstance(factor, Factor)\n",
    "        self.__factors.append(factor)\n",
    "        \n",
    "    def check(self):\n",
    "        keys_needed = list()\n",
    "        for factor in self.__factors:\n",
    "            for key in factor.keys():\n",
    "                if not key in keys_needed:\n",
    "                    keys_needed.append(key)\n",
    "        keys_missing = list()\n",
    "        for var in self.__variables_dense:\n",
    "            if var.var_key() in keys_needed:\n",
    "                keys_needed.remove(var.var_key())\n",
    "        for var in self.__variables_sparse:\n",
    "            if var.var_key() in keys_needed:\n",
    "                keys_needed.remove(var.var_key())\n",
    "        if len(keys_needed) > 0:\n",
    "            keys_missing = ''\n",
    "            for key in keys_needed:\n",
    "                keys_missing = '{} {}'.format(keys_missing, key)\n",
    "            print(\"Keys missing {}\".format(keys_missing))\n",
    "            return False\n",
    "        return True\n",
    "            \n",
    "    def solve(self):\n",
    "        # Shur decompose\n",
    "        return False\n",
    "        "
   ]
  },
  {
   "cell_type": "code",
   "execution_count": 96,
   "metadata": {},
   "outputs": [
    {
     "name": "stdout",
     "output_type": "stream",
     "text": [
      "var_key = t var_size = 3 delta_size = 3 var_type = 0\n",
      "var_key = d var_size = 1 delta_size = 1 var_type = 1\n",
      "var_key = c var_size = 6 delta_size = 6 var_type = 0\n",
      "OK\n",
      "[[0. 0. 0. 0. 0. 0. 0. 0. 0. 0.]\n",
      " [0. 0. 0. 0. 0. 0. 0. 0. 0. 0.]\n",
      " [0. 0. 0. 0. 0. 0. 0. 0. 0. 0.]\n",
      " [0. 0. 0. 0. 0. 0. 0. 0. 0. 0.]\n",
      " [0. 0. 0. 0. 0. 0. 0. 0. 0. 0.]\n",
      " [0. 0. 0. 0. 0. 0. 0. 0. 0. 0.]\n",
      " [0. 0. 0. 0. 0. 0. 0. 0. 0. 0.]\n",
      " [0. 0. 0. 0. 0. 0. 0. 0. 0. 0.]\n",
      " [0. 0. 0. 0. 0. 0. 0. 0. 0. 0.]\n",
      " [0. 0. 0. 0. 0. 0. 0. 0. 0. 0.]]\n"
     ]
    }
   ],
   "source": [
    "a = Variable('t', 3, var_type_dense)\n",
    "print(a)\n",
    "\n",
    "b = Variable('d', 1, var_type_sparse)\n",
    "print(b)\n",
    "\n",
    "c = Variable('c', 6, var_type_dense)\n",
    "print(c)\n",
    "\n",
    "opt = Optimizer()\n",
    "opt.add_variable(a)\n",
    "opt.add_variable(b)\n",
    "opt.add_variable(c)\n",
    "\n",
    "if opt.check():\n",
    "    print(\"OK\")\n",
    "else:\n",
    "    print(\"BAD\")\n",
    "    \n",
    "print(opt.compose())"
   ]
  },
  {
   "cell_type": "code",
   "execution_count": 80,
   "metadata": {},
   "outputs": [
    {
     "data": {
      "text/plain": [
       "0.16000000000000003"
      ]
     },
     "execution_count": 80,
     "metadata": {},
     "output_type": "execute_result"
    }
   ],
   "source": [
    "# Test system\n",
    "\n",
    "0.4 * 0.4"
   ]
  },
  {
   "cell_type": "code",
   "execution_count": 89,
   "metadata": {},
   "outputs": [
    {
     "name": "stdout",
     "output_type": "stream",
     "text": [
      "[[0.   0.   0.   0.   0.  ]\n",
      " [0.   0.   0.   0.   0.  ]\n",
      " [0.   0.   0.   0.   0.  ]\n",
      " [0.   0.   0.   0.   0.  ]\n",
      " [0.   0.   0.   0.   0.48]]\n",
      "[[0.]\n",
      " [0.]\n",
      " [0.]\n",
      " [0.]\n",
      " [0.]]\n"
     ]
    },
    {
     "data": {
      "text/plain": [
       "array([[0.],\n",
       "       [0.],\n",
       "       [0.],\n",
       "       [0.],\n",
       "       [0.]])"
      ]
     },
     "execution_count": 89,
     "metadata": {},
     "output_type": "execute_result"
    }
   ],
   "source": [
    "import numpy as np\n",
    "\n",
    "\n",
    "J = np.zeros((3,5))\n",
    "J[0,4] = 0.4\n",
    "#J[:3,:3] = 0.5 * np.eye(3)\n",
    "W = 3 * np.eye(3)\n",
    "H = J.transpose().dot(W.dot(J))\n",
    "print(H)\n",
    "dx = np.zeros((5,1))\n",
    "print(H.dot(dx))\n",
    "r = np.zeros((3,1))\n",
    "\n",
    "J.transpose().dot(r)"
   ]
  }
 ],
 "metadata": {
  "kernelspec": {
   "display_name": "Python 3",
   "language": "python",
   "name": "python3"
  },
  "language_info": {
   "codemirror_mode": {
    "name": "ipython",
    "version": 3
   },
   "file_extension": ".py",
   "mimetype": "text/x-python",
   "name": "python",
   "nbconvert_exporter": "python",
   "pygments_lexer": "ipython3",
   "version": "3.5.2"
  }
 },
 "nbformat": 4,
 "nbformat_minor": 2
}
